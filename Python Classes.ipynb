{
 "cells": [
  {
   "cell_type": "code",
   "execution_count": null,
   "id": "6ab2de4d",
   "metadata": {},
   "outputs": [],
   "source": [
    "class TreeNode:\n",
    "    def __init__(self, data):\n",
    "        self.data = data\n",
    "        self.left = None\n",
    "        self.right = None\n",
    "        \n",
    "tree = TreeNode(5)\n",
    "print(tree)"
   ]
  },
  {
   "cell_type": "markdown",
   "id": "fbb697c6",
   "metadata": {},
   "source": [
    "everything in Python is an object\n",
    "imp of oop - Abstraction, you dont need to know how append() method is implemented\n",
    "example of class = cookie mould \n",
    "example of object = cookie and customized cookies\n",
    "self <- reference of the obj that calls this method\n",
    "Eg. \n",
    "obj.method() ==> class.method(obj) ==> self\n",
    "getters and setters are not so required in Python\n",
    "Instead use @property decorator\n"
   ]
  },
  {
   "cell_type": "code",
   "execution_count": null,
   "id": "bec96a81",
   "metadata": {},
   "outputs": [],
   "source": [
    "from turtle import Turtle as T\n",
    "from random import *\n",
    "\n",
    "class newTurtle:\n",
    "    def __init__(self, color, pen_color, shape, y_pos):\n",
    "        self.color = color\n",
    "        self.pen_color = pen_color\n",
    "        self.shape = shape\n",
    "        self.y_pos = y_pos\n",
    "        \n",
    "    def createPlayers(self):\n",
    "        t = T()\n",
    "        t.color(self.color)\n",
    "        t.shape(self.shape)\n",
    "        t.pencolor(self.pen_color)\n",
    "        t.penup()\n",
    "        t.goto(-160, self.y_pos)\n",
    "        t.pendown()\n",
    "        t.forward(30)\n",
    "        return t\n",
    "\n",
    "def move(tz):\n",
    "    for i in tz:\n",
    "        tz[i].forward(randint(1,5))\n",
    "        if tz[i].position()[0] >= 150:\n",
    "            return i.color\n",
    "\n",
    "winner = None\n",
    "t1 = newTurtle('red', 'red', 'arrow', 60)\n",
    "t2 = newTurtle('green', 'green', 'turtle', -60)\n",
    "t3 = newTurtle('blue', 'blue', 'circle', 180)\n",
    "t4 = newTurtle('yellow', 'yellow', 'square', -180)\n",
    "turtles = {t1: t1.createPlayers(), t2: t2.createPlayers(), t3: t3.createPlayers(), t4: t4.createPlayers()}\n",
    "\n",
    "while winner == None:\n",
    "    winner = move(turtles)\n",
    "    \n",
    "print(winner)"
   ]
  },
  {
   "cell_type": "code",
   "execution_count": null,
   "id": "ed2ec605",
   "metadata": {},
   "outputs": [],
   "source": []
  },
  {
   "cell_type": "code",
   "execution_count": null,
   "id": "4beacab9",
   "metadata": {},
   "outputs": [],
   "source": []
  }
 ],
 "metadata": {
  "kernelspec": {
   "display_name": "Python 3 (ipykernel)",
   "language": "python",
   "name": "python3"
  },
  "language_info": {
   "codemirror_mode": {
    "name": "ipython",
    "version": 3
   },
   "file_extension": ".py",
   "mimetype": "text/x-python",
   "name": "python",
   "nbconvert_exporter": "python",
   "pygments_lexer": "ipython3",
   "version": "3.10.4"
  }
 },
 "nbformat": 4,
 "nbformat_minor": 5
}
