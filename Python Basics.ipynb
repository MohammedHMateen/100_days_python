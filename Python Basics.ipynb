{
 "cells": [
  {
   "cell_type": "markdown",
   "id": "8fb92d8a",
   "metadata": {},
   "source": [
    "# Python Basics\n",
    "* **List** is a collection which is ordered and changeable. Allows duplicate members.  []\n",
    "* **Dictionary** is a collection which is ordered and changeable. No duplicate members. {}\n",
    "\n",
    ">\n",
    "\n",
    "* **Tuple** is a collection which is ordered and unchangeable. Allows duplicate members.\n",
    "* **Set** is a collection which is unordered and unindexed. No duplicate members.\n",
    "\n",
    "<table><tr><th>Ordered</th>   <th>Mutable</th>   <th>Duplicate</th><th>Unindexed</th></tr>\n",
    "       <tr><td>List</td>      <td>List</td>      <td>List</td>     <td>Set</td></tr>\n",
    "       <tr><td>Dictionary</td><td>Dictionary</td><td>Tuple</td>    <td>-</td></tr>\n",
    "       <tr><td>Tuple</td>     <td>-</td>         <td>-</td>        <td>-</td></tr>\n",
    "</table>    \n",
    "\n",
    "<table><tr><th>Unordered</th><th>Immutable</th><th>Unique</th></tr>\n",
    "       <tr><td>Set</td>      <td>Tuple</td>    <td>Dictionary</td></tr>\n",
    "       <tr><td>-</td>        <td>Set</td>      <td>Set</td></tr>\n",
    "</table>"
   ]
  },
  {
   "cell_type": "markdown",
   "id": "ed6e1e38",
   "metadata": {},
   "source": [
    "# Lists"
   ]
  },
  {
   "cell_type": "code",
   "execution_count": 17,
   "id": "7aa9d5c9",
   "metadata": {},
   "outputs": [
    {
     "name": "stdout",
     "output_type": "stream",
     "text": [
      "[2]\n",
      "[1, 2]\n"
     ]
    }
   ],
   "source": [
    "l=list()\n",
    "l1=[1]\n",
    "l.append(2)\n",
    "l1.extend(l)\n",
    "print(l)\n",
    "print(l1)"
   ]
  },
  {
   "cell_type": "markdown",
   "id": "8896671f",
   "metadata": {},
   "source": [
    "## List Methods\n",
    "* **append(elem)** - add 1 elem to last\n",
    "* **insert(pos,elem)** - add 1 elem at a specific pos\n",
    "* **L1.extend(L2)** - copy all elem of L2 to L1 in L1\n",
    ">\n",
    "* **sum(L1), max(L1), min(L1), len(L1)**\n",
    "* **L1.count(elem)** - # of elem occurences in L1\n",
    "* **L1.index(elem, [start, [end)** - index of elem in the list\n",
    ">\n",
    "* **sorted(L1, reverse=False)** or **L1.sort(reverse=True)**\n",
    ">\n",
    "* **L1.pop([index)** - del last elem or at a pos-index\n",
    "* **L1.remove(elem)** - del elem of the specified value (not index only value)*just--once*\n",
    "* **L1.clear()** - clear the entire list\n",
    "* **del L1[0]**- works like pop at index"
   ]
  },
  {
   "cell_type": "code",
   "execution_count": 18,
   "id": "515fa4ff",
   "metadata": {},
   "outputs": [
    {
     "name": "stdout",
     "output_type": "stream",
     "text": [
      "Shallow Copy :: a=l\n",
      "a=[2, 3, 4, 4, 5, 4, 5]\n",
      "l=[2, 3, 4, 4, 5, 4, 5]\n",
      "\n",
      "Deep Copy :: c=l.copy()\n",
      "c=[1, 2, 4, 5, 4, 5, 4, 5, 6]\n"
     ]
    }
   ],
   "source": [
    "#### SHALLOW COPY :: = :: no new object; only new variable; changes affect both\n",
    "#### DEEP COPY :: .copy() :: new object; clones; changes affects one\n",
    "\n",
    "l = [1,2,3,4,5,4,5,4,5,6]\n",
    "\n",
    "# Makes a new list c at a different address\n",
    "# Any changes in c dont reflect in l  (c><l)\n",
    "\n",
    "c=l.copy()\n",
    "\n",
    "# Makes a new list a at same address\n",
    "# ALiasing\n",
    "# All changes in a reflect in l and vice-versa  (a<>l)\n",
    "\n",
    "a=l\n",
    "\n",
    "del a[0]\n",
    "l.remove(5)\n",
    "a.pop()\n",
    "c.remove(3)\n",
    "\n",
    "print(f\"Shallow Copy :: a=l\\na={a}\\nl={l}\\n\\nDeep Copy :: c=l.copy()\\nc={c}\")"
   ]
  },
  {
   "cell_type": "code",
   "execution_count": 31,
   "id": "147301cb",
   "metadata": {},
   "outputs": [
    {
     "name": "stdout",
     "output_type": "stream",
     "text": [
      "Index::Value\n",
      "0 :: 1\n",
      "1 :: 2\n",
      "2 :: 4\n",
      "3 :: 5\n",
      "4 :: 4\n",
      "5 :: 5\n",
      "6 :: 4\n",
      "7 :: 5\n",
      "8 :: 6\n"
     ]
    }
   ],
   "source": [
    "print(\"Index::Value\")\n",
    "for index,value in enumerate(c):\n",
    "    print(index,\"::\",value)"
   ]
  },
  {
   "cell_type": "code",
   "execution_count": 37,
   "id": "b6446516",
   "metadata": {},
   "outputs": [
    {
     "name": "stdout",
     "output_type": "stream",
     "text": [
      "ZIPPED list = [(1, 2), (3, 4), (5, 6), (7, 8), (9, 10)]\n",
      "After Unzipping\n",
      "List-A = (1, 3, 5, 7, 9)\n",
      "List-B = (2, 4, 6, 8, 10)\n"
     ]
    }
   ],
   "source": [
    "#### ZIP-ping two lists\n",
    "# can have n-number of lists\n",
    "a=[1,3,5,7,9]\n",
    "b=[2,4,6,8,10]\n",
    "#### a tuple of zips\n",
    "zipped = list(zip(a,b))\n",
    "print(f\"ZIPPED list = {zipped}\")\n",
    "#### Unzipping *\n",
    "list_a,list_b = zip(*zipped)\n",
    "print(f\"After Unzipping\\nList-A = {list_a}\\nList-B = {list_b}\")"
   ]
  },
  {
   "cell_type": "markdown",
   "id": "384870b8",
   "metadata": {},
   "source": [
    "### List Comprehension"
   ]
  },
  {
   "cell_type": "code",
   "execution_count": 40,
   "id": "4f471d0d",
   "metadata": {},
   "outputs": [
    {
     "name": "stdout",
     "output_type": "stream",
     "text": [
      "[0, 1, 4, 9, 16, 25, 36, 49, 64, 81]\n"
     ]
    }
   ],
   "source": [
    "def foo(x):\n",
    "    return x**2\n",
    "\n",
    "l = [foo(i) for i in range(10)]\n",
    "print(l)"
   ]
  },
  {
   "cell_type": "markdown",
   "id": "6509e483",
   "metadata": {},
   "source": [
    "### Storing instances of objects in a list\n",
    "* Ok, so list can take up any data-structure :: an instance of an object"
   ]
  },
  {
   "cell_type": "code",
   "execution_count": 44,
   "id": "b0491b83",
   "metadata": {},
   "outputs": [
    {
     "name": "stdout",
     "output_type": "stream",
     "text": [
      "[10, <__main__.sample_class object at 0x000001EB99BEAD60>, 10, <__main__.sample_class object at 0x000001EB99CE4730>, 10, <__main__.sample_class object at 0x000001EB99CE4640>, 10, <__main__.sample_class object at 0x000001EB99CE4490>, 10, <__main__.sample_class object at 0x000001EB99CE49D0>]\n"
     ]
    }
   ],
   "source": [
    "class sample_class():\n",
    "    def __init__(self):\n",
    "        # value is the private variable of this class\n",
    "        self.value = 10\n",
    "\n",
    "l = []\n",
    "for i in range(10):\n",
    "    obj = sample_class()\n",
    "    if (not(i%2)):\n",
    "        l.append(obj.value)\n",
    "    else:\n",
    "        # This stores the reference address of the obj on all odd positions\n",
    "        l.append(obj)\n",
    "        \n",
    "print(l)"
   ]
  },
  {
   "cell_type": "code",
   "execution_count": null,
   "id": "ac70067d",
   "metadata": {},
   "outputs": [],
   "source": []
  },
  {
   "cell_type": "code",
   "execution_count": null,
   "id": "849612de",
   "metadata": {},
   "outputs": [],
   "source": []
  },
  {
   "cell_type": "markdown",
   "id": "10dfc75f",
   "metadata": {},
   "source": [
    "# Dictionaries\n",
    "\n",
    "* Key-Value Index Mapping\n",
    "* HashMap\n",
    "* Mutable\n",
    "* No ordering but **3.7 and above Ordered Dictionaries**"
   ]
  },
  {
   "cell_type": "code",
   "execution_count": 4,
   "id": "cdbe967d",
   "metadata": {},
   "outputs": [
    {
     "name": "stdout",
     "output_type": "stream",
     "text": [
      "Value at key 1 in dict is 8\n"
     ]
    }
   ],
   "source": [
    "# Creating new dict can use {} or dict(key=\"value\")\n",
    "dict = {}\n",
    "\n",
    "# dict[key] = value\n",
    "dict['a']=2\n",
    "dict['b']=4\n",
    "dict[1]=8          ##number->mem-addr->value\n",
    "dict['1']=8        ##ascii->hex->mem-addr->value\n",
    "\n",
    "# !2 same keys the **latest key value pair is chosen**\n",
    "print(f\"Value at key 1 in dict is {dict[1]}\") #8"
   ]
  },
  {
   "cell_type": "code",
   "execution_count": 16,
   "id": "c3cac104",
   "metadata": {},
   "outputs": [
    {
     "name": "stdout",
     "output_type": "stream",
     "text": [
      "{'name': 'HI', 'age': 99, 'score': 100.9, 1: '1'}\n",
      "{'cool': 99, 'awesome': 'Yeah!', 'amazing': True}\n"
     ]
    }
   ],
   "source": [
    "new_dict = dict(name=\"HI\",age=99,score=100.9)\n",
    "newr_dict = {'cool':99,'awesome':\"Yeah!\"}\n",
    "newr_dict[\"amazing\"]=True\n",
    "new_dict[1]=\"1\"\n",
    "print(new_dict)\n",
    "print(newr_dict)"
   ]
  },
  {
   "cell_type": "markdown",
   "id": "7e0effac",
   "metadata": {},
   "source": [
    "## *Dict to store the instance of the class*"
   ]
  },
  {
   "cell_type": "code",
   "execution_count": 5,
   "id": "27de2db1",
   "metadata": {},
   "outputs": [
    {
     "data": {
      "text/plain": [
       "'data'"
      ]
     },
     "execution_count": 5,
     "metadata": {},
     "output_type": "execute_result"
    }
   ],
   "source": [
    "class my_class:\n",
    "    def __init__(self,data='data'):\n",
    "        self.data=data\n",
    "        \n",
    "instance = my_class()\n",
    "dict={}\n",
    "dict['i'] = instance\n",
    "dict['i'].data"
   ]
  },
  {
   "cell_type": "markdown",
   "id": "d5557296",
   "metadata": {},
   "source": [
    "## Dictionaries Function Set\n",
    "* `len()`: Display number of Keys. (***int***)\n",
    "\n",
    "\n",
    "* `popitem()`: Clears the *last key*. (***(key,value)***)\n",
    "\n",
    "\n",
    "* `pop()`: Clear a particular key. (***value***)\n",
    "\n",
    "\n",
    "* `clear()`: Clear all content of dict. (***empty dict***)\n",
    "\n",
    "\n",
    "* `keys()`: All keys. (***dict_keys([])***)\n",
    "\n",
    "\n",
    "* `values()`: All values. (***dict_values([])***)\n",
    "\n",
    "\n",
    "* `items()`: All keys and value pairs with : and , (***dict_items([(),()])***)\n",
    "\n",
    "\n",
    "* `__contains__(key)`: Check if **key** exists. (***bool***)\n",
    "\n",
    "\n",
    "* `cmp(x,y)`: Compare the lenghts of two dicts. (***x>y:1 x=y:0 x<y:-1***)"
   ]
  },
  {
   "cell_type": "code",
   "execution_count": 17,
   "id": "8b8fb8b0",
   "metadata": {},
   "outputs": [
    {
     "name": "stdout",
     "output_type": "stream",
     "text": [
      "{'name': 'HI', 'age': 99, 'score': 100.9, 1: '1'}\n",
      "Popping 1 of <class 'str'>\n",
      "{'name': 'HI', 'age': 99, 'score': 100.9}\n"
     ]
    }
   ],
   "source": [
    "print(new_dict)\n",
    "a=new_dict.pop(1)\n",
    "print(f'Popping {a} of {type(a)}')\n",
    "print(new_dict)"
   ]
  },
  {
   "cell_type": "code",
   "execution_count": null,
   "id": "410a581f",
   "metadata": {},
   "outputs": [],
   "source": []
  },
  {
   "cell_type": "code",
   "execution_count": null,
   "id": "c7537dff",
   "metadata": {},
   "outputs": [],
   "source": []
  }
 ],
 "metadata": {
  "kernelspec": {
   "display_name": "Python 3 (ipykernel)",
   "language": "python",
   "name": "python3"
  },
  "language_info": {
   "codemirror_mode": {
    "name": "ipython",
    "version": 3
   },
   "file_extension": ".py",
   "mimetype": "text/x-python",
   "name": "python",
   "nbconvert_exporter": "python",
   "pygments_lexer": "ipython3",
   "version": "3.9.6"
  }
 },
 "nbformat": 4,
 "nbformat_minor": 5
}
