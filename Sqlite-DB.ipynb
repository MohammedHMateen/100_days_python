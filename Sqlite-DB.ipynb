{
 "cells": [
  {
   "cell_type": "markdown",
   "id": "8856ce9f",
   "metadata": {},
   "source": [
    "# SQLite3\n",
    "## A Simple DB for Python"
   ]
  },
  {
   "cell_type": "code",
   "execution_count": 1,
   "id": "e4654dad",
   "metadata": {},
   "outputs": [],
   "source": [
    "import sqlite3 as db\n",
    "\n",
    "# Create a DataBase (connect)\n",
    "# Refer existing or create a new db\n",
    "\n",
    "# The in memory sqlite-db\n",
    "con_mem = db.connect(':memory:')\n",
    "\n",
    "# This is persistant\n",
    "con = db.connect('sample.db')"
   ]
  },
  {
   "cell_type": "code",
   "execution_count": 2,
   "id": "f5c4bbba",
   "metadata": {},
   "outputs": [],
   "source": [
    "# Cursor tells sql-db what to do (cursor)\n",
    "cur = con.cursor()"
   ]
  },
  {
   "cell_type": "markdown",
   "id": "95dbd0fc",
   "metadata": {},
   "source": [
    "## Data Types in SQLite\n",
    "* NULL\n",
    "* INT\n",
    "* REAL\n",
    "* TEXT\n",
    "* BLOB"
   ]
  },
  {
   "cell_type": "code",
   "execution_count": 3,
   "id": "27603a3c",
   "metadata": {},
   "outputs": [],
   "source": [
    "# Execute anything using execute through a cursor\n",
    "cur.execute('''create table if not exists customer(name varchar(5), age int(3))''')\n",
    "\n",
    "# Commit is important\n",
    "con.commit()\n",
    "\n",
    "# Close that conn\n",
    "con.close()"
   ]
  },
  {
   "cell_type": "markdown",
   "id": "5d03fa3a",
   "metadata": {},
   "source": [
    ">Insert 1 value into the db"
   ]
  },
  {
   "cell_type": "code",
   "execution_count": 4,
   "id": "cfbee3b4",
   "metadata": {},
   "outputs": [
    {
     "data": {
      "text/plain": [
       "[('HI', 99)]"
      ]
     },
     "execution_count": 4,
     "metadata": {},
     "output_type": "execute_result"
    }
   ],
   "source": [
    "con = db.connect('sample.db')\n",
    "c=con.cursor()\n",
    "c.execute('''insert into customer values ('HI',99)''')\n",
    "c.execute('''select * from customer''')\n",
    "c.fetchall()"
   ]
  },
  {
   "cell_type": "markdown",
   "id": "85152f8a",
   "metadata": {},
   "source": [
    "> Insert many values in the database"
   ]
  },
  {
   "cell_type": "code",
   "execution_count": 5,
   "id": "7d6e442e",
   "metadata": {},
   "outputs": [
    {
     "name": "stdout",
     "output_type": "stream",
     "text": [
      "('HI', 99)\n",
      "[('m1', 98), ('m2', 92), ('m3', 96), ('m4', 93)]\n",
      "[]\n",
      "None\n",
      "[]\n",
      "[]\n"
     ]
    }
   ],
   "source": [
    "many_values = [('m1',98),('m2',92),('m3',96),('m4',93)]\n",
    "c.executemany(\"insert into customer values (?,?)\", many_values)\n",
    "con.commit()\n",
    "c.execute('''select * from customer''')\n",
    "\n",
    "print(c.fetchone())\n",
    "print(c.fetchmany(4))\n",
    "print(c.fetchall())\n",
    "\n",
    "c.execute('''delete from customer''')\n",
    "c.execute('''select * from customer''')\n",
    "\n",
    "print(c.fetchone())\n",
    "print(c.fetchmany(4))\n",
    "print(c.fetchall())"
   ]
  },
  {
   "cell_type": "code",
   "execution_count": 6,
   "id": "bdccad24",
   "metadata": {},
   "outputs": [],
   "source": [
    "con.commit()\n",
    "con.close()"
   ]
  },
  {
   "cell_type": "code",
   "execution_count": 7,
   "id": "412a2d96",
   "metadata": {},
   "outputs": [],
   "source": [
    "# con = db.connect('sample.db')\n",
    "# c=con.cursor()\n",
    "# c.execute('''\n",
    "# select name \n",
    "# from sqlite_master \n",
    "# where type='table'and name not like 'sqlite_%' ''')"
   ]
  },
  {
   "cell_type": "code",
   "execution_count": null,
   "id": "0c6d37a5",
   "metadata": {},
   "outputs": [],
   "source": []
  }
 ],
 "metadata": {
  "kernelspec": {
   "display_name": "Python 3 (ipykernel)",
   "language": "python",
   "name": "python3"
  },
  "language_info": {
   "codemirror_mode": {
    "name": "ipython",
    "version": 3
   },
   "file_extension": ".py",
   "mimetype": "text/x-python",
   "name": "python",
   "nbconvert_exporter": "python",
   "pygments_lexer": "ipython3",
   "version": "3.9.6"
  }
 },
 "nbformat": 4,
 "nbformat_minor": 5
}
